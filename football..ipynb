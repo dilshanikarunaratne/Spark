﻿{
  "metadata": {
    "name": "football",
    "kernelspec": {
      "language": "scala",
      "name": "spark2-scala"
    },
    "language_info": {
      "codemirror_mode": "text/x-scala",
      "file_extension": ".scala",
      "mimetype": "text/x-scala",
      "name": "scala",
      "pygments_lexer": "scala"
    }
  },
  "nbformat": 4,
  "nbformat_minor": 2,
  "cells": [
    {
      "cell_type": "raw",
      "metadata": {
        "format": "text/plain"
      },
      "source": "%pyspark\r\ndf2 \u003d spark.read.options(sep\u003d\";\", header\u003dTrue).csv(\"/data/results.csv\")\r\ndf2.printSchema()\r\ndf2.show() "
    },
    {
      "cell_type": "raw",
      "metadata": {
        "format": "text/plain"
      },
      "source": "%pyspark\n# Specify schema for your csv file\nfrom pyspark.sql.types import StructType, StringType, IntegerType,DateType,BooleanType\n\nschema \u003d StructType().add(\"date\", DateType(), True) \\\n    .add(\"home_team\", StringType(), True) \\\n    .add(\"away_team\", StringType(), True)\\\n    .add(\"home_score\", IntegerType(), True)\\\n    .add(\"away_score\", IntegerType(), True)\\\n    .add(\"tournament\", StringType(), True)\\\n    .add(\"city\", StringType(), True)\\\n    .add(\"country\", StringType(), True)\\\n    .add(\"neutral\", BooleanType(), True)"
    },
    {
      "cell_type": "raw",
      "metadata": {
        "format": "text/plain"
      },
      "source": "%pyspark\ndf3 \u003d spark.read.options(sep\u003d\",\", header\u003dTrue) \\\n    .schema(schema) \\\n    .csv(\"/data/results.csv\") \ndf3.printSchema()\ndf3.show()\n"
    },
    {
      "cell_type": "raw",
      "metadata": {
        "format": "text/plain"
      },
      "source": "%pyspark\n# call createOrReplaceTempView first if you want to query this DataFrame via sql\ndf3.createOrReplaceTempView(\"match_scores\")\n# SparkSession.sql return DataFrame\ndf2 \u003d spark.sql(\"select country,COUNT(country) goal_count from match_scores group by country having COUNT(country)\u003e1\")\ndf2.show()"
    },
    {
      "cell_type": "code",
      "execution_count": 4,
      "metadata": {
        "autoscroll": "auto"
      },
      "outputs": [],
      "source": "%spark.sql\nselect (COUNT(distinct A.country))/((SELECT COUNT(distinct country) FROM\nmatch_scores)) percentage\nfrom\n(\nselect country , tournament, COUNT(*) matches from match_scores\ngroup by country , tournament\nhaving COUNT(*)\u003e1\n) A"
    },
    {
      "cell_type": "code",
      "execution_count": 5,
      "metadata": {
        "autoscroll": "auto"
      },
      "outputs": [],
      "source": "%spark.sql\nselect YEAR(date_played) Year , COUNT(*) matches\nfrom match_scores\nwhere date_played IS NOT NULL\ngroup by YEAR(date_played)\norder by YEAR(date_played)"
    },
    {
      "cell_type": "code",
      "execution_count": 6,
      "metadata": {
        "autoscroll": "auto"
      },
      "outputs": [],
      "source": "%spark.sql\nSELECT A.Team as TeamName, \nsum (CASE WHEN A.Team\u003dA.Result then 1 else 0 end )as Won\n ,sum(CASE WHEN A.Team!\u003dA.Result AND A.Team!\u003d\u0027drawn\u0027  then 1 else 0 end )as Lost\n , sum(CASE WHEN A.Result\u003d\u0027drawn\u0027 then 1 else 0 end )as Drawn\nFROM (SELECT home_team as Team,\n      CASE WHEN home_score \u003d away_score THEN \u0027drawn\u0027 WHEN  home_score \u003eaway_score  THEN home_team  ELSE away_team END Result\n      FROM match_scores\n      UNION ALL\n      SELECT away_team as Team,\n      CASE WHEN home_score \u003d away_score THEN \u0027drawn\u0027 WHEN  home_score \u003eaway_score  THEN home_team  ELSE away_team END Result\n      FROM match_scores\n     ) A\nGROUP BY A.Team"
    },
    {
      "cell_type": "code",
      "execution_count": 7,
      "metadata": {
        "autoscroll": "auto"
      },
      "outputs": [],
      "source": "%spark.sql\n"
    }
  ]
}